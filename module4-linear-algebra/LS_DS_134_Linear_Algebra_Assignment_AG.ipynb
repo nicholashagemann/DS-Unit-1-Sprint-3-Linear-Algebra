{
  "nbformat": 4,
  "nbformat_minor": 0,
  "metadata": {
    "colab": {
      "name": "LS_DS_134_Linear_Algebra_Assignment_AG.ipynb",
      "provenance": [],
      "collapsed_sections": []
    },
    "kernelspec": {
      "display_name": "Python 3",
      "language": "python",
      "name": "python3"
    },
    "language_info": {
      "codemirror_mode": {
        "name": "ipython",
        "version": 3
      },
      "file_extension": ".py",
      "mimetype": "text/x-python",
      "name": "python",
      "nbconvert_exporter": "python",
      "pygments_lexer": "ipython3",
      "version": "3.7.4"
    }
  },
  "cells": [
    {
      "cell_type": "markdown",
      "metadata": {
        "id": "ZrZCiP5CfTz_"
      },
      "source": [
        "## Autograded Notebook (Canvas & CodeGrade)\n",
        "\n",
        "This notebook will be automatically graded. It is designed to test your answers and award points for the correct answers. Following the instructions for each Task carefully.\n",
        "\n",
        "### Instructions\n",
        "\n",
        "* **Download this notebook** as you would any other ipynb file\n",
        "* **Upload** to Google Colab or work locally (if you have that set-up)\n",
        "* **Delete `raise NotImplementedError()`**\n",
        "* Write your code in the `# YOUR CODE HERE` space\n",
        "* **Execute** the Test cells that contain `assert` statements - these help you check your work (others contain hidden tests that will be checked when you submit through Canvas)\n",
        "* **Save** your notebook when you are finished\n",
        "* **Download** as a `ipynb` file (if working in Colab)\n",
        "* **Upload** your complete notebook to Canvas (there will be additional instructions in Slack and/or Canvas)"
      ]
    },
    {
      "cell_type": "markdown",
      "metadata": {
        "id": "iovQcSbqJl0_"
      },
      "source": [
        "# Lambda School Data Science - Unit 1 Sprint 3 Module 4\n",
        "\n",
        "## Module Project: Linear Algebra\n",
        "\n",
        "### Learning Objectives\n",
        "\n",
        "* define a vector and calculate a vector length and dot product\n",
        "* define a matrix and calculate a matrix dot product, transpose, and inverse\n",
        "* explain cosine similarity and compute the similarity between two vectors\n",
        "* use linear algebra to solve for linear regression coefficients\n",
        "\n",
        "### Total notebook points: 13"
      ]
    },
    {
      "cell_type": "markdown",
      "metadata": {
        "id": "MHWnltybtm8_"
      },
      "source": [
        "## Part A: Introduction\n",
        "\n",
        "### Statistical significance between head size and brain weight in healthy adult humans\n",
        "\n",
        "The `Brainhead.csv` dataset provides information on 237 individuals who were subject to post-mortem examination at the Middlesex Hospital in London around the turn of the 20th century. Study authors used cadavers to see if a relationship between brain weight and other more easily measured physiological characterizes such as age, sex, and head size could be determined. The end goal was to develop a way to estimate a person’s brain size while they were still alive (as the living aren’t keen on having their brains taken out and weighed).\n",
        "\n",
        "**We wish to determine if we can improve on our model of the linear relationship between head size and brain weight in healthy human adults.**\n",
        "\n",
        "Source: R.J. Gladstone (1905). \"A Study of the Relations of the Brain to the Size of the Head\", Biometrika, Vol. 4, pp105-123.\n",
        "\n",
        "### Use the above information to complete the following tasks. "
      ]
    },
    {
      "cell_type": "markdown",
      "metadata": {
        "id": "UP2jBCbXyjzl"
      },
      "source": [
        "**Task 1** - Load the data\n",
        "\n",
        "Let's load the data! The URL has been provided as well as the imports for pandas and numpy.\n",
        "\n",
        "* load your CSV file into a DataFrame named `df`"
      ]
    },
    {
      "cell_type": "code",
      "metadata": {
        "colab": {
          "base_uri": "https://localhost:8080/",
          "height": 206
        },
        "deletable": false,
        "id": "0NKz1DvXQHqq",
        "nbgrader": {
          "cell_type": "code",
          "checksum": "9358a768662a02dc0b59e5014916f3fb",
          "grade": false,
          "grade_id": "cell-a7ff057c4c794df7",
          "locked": false,
          "schema_version": 3,
          "solution": true,
          "task": false
        },
        "outputId": "6856b2aa-1b84-42a4-bb50-29e933b5b1b0"
      },
      "source": [
        "# Task 1\n",
        "\n",
        "# Imports\n",
        "import pandas as pd\n",
        "import numpy as np\n",
        "\n",
        "# Dataset URL\n",
        "data_url = 'https://raw.githubusercontent.com/LambdaSchool/data-science-practice-datasets/main/unit_1/Brainhead/Brainhead.csv'\n",
        "\n",
        "# YOUR CODE HERE\n",
        "df = pd.read_csv(data_url)\n",
        "\n",
        "# Print out your DataFrame\n",
        "df.head()"
      ],
      "execution_count": 7,
      "outputs": [
        {
          "output_type": "execute_result",
          "data": {
            "text/html": [
              "<div>\n",
              "<style scoped>\n",
              "    .dataframe tbody tr th:only-of-type {\n",
              "        vertical-align: middle;\n",
              "    }\n",
              "\n",
              "    .dataframe tbody tr th {\n",
              "        vertical-align: top;\n",
              "    }\n",
              "\n",
              "    .dataframe thead th {\n",
              "        text-align: right;\n",
              "    }\n",
              "</style>\n",
              "<table border=\"1\" class=\"dataframe\">\n",
              "  <thead>\n",
              "    <tr style=\"text-align: right;\">\n",
              "      <th></th>\n",
              "      <th>Gender</th>\n",
              "      <th>Age</th>\n",
              "      <th>Head</th>\n",
              "      <th>Brain</th>\n",
              "    </tr>\n",
              "  </thead>\n",
              "  <tbody>\n",
              "    <tr>\n",
              "      <th>0</th>\n",
              "      <td>1</td>\n",
              "      <td>1</td>\n",
              "      <td>4512</td>\n",
              "      <td>1530</td>\n",
              "    </tr>\n",
              "    <tr>\n",
              "      <th>1</th>\n",
              "      <td>1</td>\n",
              "      <td>1</td>\n",
              "      <td>3738</td>\n",
              "      <td>1297</td>\n",
              "    </tr>\n",
              "    <tr>\n",
              "      <th>2</th>\n",
              "      <td>1</td>\n",
              "      <td>1</td>\n",
              "      <td>4261</td>\n",
              "      <td>1335</td>\n",
              "    </tr>\n",
              "    <tr>\n",
              "      <th>3</th>\n",
              "      <td>1</td>\n",
              "      <td>1</td>\n",
              "      <td>3777</td>\n",
              "      <td>1282</td>\n",
              "    </tr>\n",
              "    <tr>\n",
              "      <th>4</th>\n",
              "      <td>1</td>\n",
              "      <td>1</td>\n",
              "      <td>4177</td>\n",
              "      <td>1590</td>\n",
              "    </tr>\n",
              "  </tbody>\n",
              "</table>\n",
              "</div>"
            ],
            "text/plain": [
              "   Gender  Age  Head  Brain\n",
              "0       1    1  4512   1530\n",
              "1       1    1  3738   1297\n",
              "2       1    1  4261   1335\n",
              "3       1    1  3777   1282\n",
              "4       1    1  4177   1590"
            ]
          },
          "metadata": {
            "tags": []
          },
          "execution_count": 7
        }
      ]
    },
    {
      "cell_type": "markdown",
      "metadata": {
        "id": "UZ645l24as2R"
      },
      "source": [
        "**Task 2**\n",
        "\n",
        "Store the response variable (brain size) as a matrix called Y.\n",
        "\n",
        "* Import numpy\n",
        "* Assign the `Brain` column to a matrix variable called `Y` which should be a `np.array` with dimensions `(237, 1)`\n",
        "* Print out your matrix shape to check the dimensions."
      ]
    },
    {
      "cell_type": "code",
      "metadata": {
        "colab": {
          "base_uri": "https://localhost:8080/"
        },
        "deletable": false,
        "id": "UVhixZZZQfUw",
        "nbgrader": {
          "cell_type": "code",
          "checksum": "1d1bf8ec0a3d924f988de7a9caba9e2c",
          "grade": false,
          "grade_id": "cell-906b5526dbb03375",
          "locked": false,
          "schema_version": 3,
          "solution": true,
          "task": false
        },
        "outputId": "2e1beba2-5fc2-4629-a1f8-2d4198fd3ae3"
      },
      "source": [
        "# Task 2\n",
        "\n",
        "# YOUR CODE HERE\n",
        "Y = df[['Brain']].to_numpy()\n",
        "\n",
        "# Print your matrix\n",
        "print(\"Matrix Y shape: \", Y.shape)\n",
        "print('Y type: ', type(Y))"
      ],
      "execution_count": 8,
      "outputs": [
        {
          "output_type": "stream",
          "text": [
            "Matrix Y shape:  (237, 1)\n",
            "Y type:  <class 'numpy.ndarray'>\n"
          ],
          "name": "stdout"
        }
      ]
    },
    {
      "cell_type": "code",
      "metadata": {
        "deletable": false,
        "editable": false,
        "id": "49ZkVHWVyjzm",
        "nbgrader": {
          "cell_type": "code",
          "checksum": "6e3f524dc2ed17c9f8ffce476332af8d",
          "grade": true,
          "grade_id": "cell-d16efc5b41a30644",
          "locked": true,
          "points": 1,
          "schema_version": 3,
          "solution": false,
          "task": false
        }
      },
      "source": [
        "# Task 2 - Test\n",
        "\n",
        "assert Y.shape == (237, 1), \"Is your Y matrix of the correct shape?\"\n"
      ],
      "execution_count": 9,
      "outputs": []
    },
    {
      "cell_type": "markdown",
      "metadata": {
        "id": "l_tU9rAlbhh4"
      },
      "source": [
        "**Task 3** - Create the X and Y matrices\n",
        "\n",
        "Store the explanatory variable (head size) as the matrix `X`.  Don't forget to include the **column of ones** for the intercept term (refer to the Guided Project notes if needed).\n",
        "\n",
        "* Create an `np.array` of ones with the name `ones`; it should be the same length as your DataFrame.\n",
        "* Create another `np.array` with the name `head`; it should have a shape of `(237, 1)`.\n",
        "* Combine the `ones` and `head` arrays to create your matrix and call it `X`; it should have a shape of `(237, 2)`"
      ]
    },
    {
      "cell_type": "code",
      "metadata": {
        "colab": {
          "base_uri": "https://localhost:8080/"
        },
        "deletable": false,
        "id": "_fGlhvmTbJdV",
        "nbgrader": {
          "cell_type": "code",
          "checksum": "d682dd6f4aac2bacefca8262984a0d88",
          "grade": false,
          "grade_id": "cell-a73325dfcd0c8c47",
          "locked": false,
          "schema_version": 3,
          "solution": true,
          "task": false
        },
        "outputId": "1cd01c6e-37b5-4236-ae46-3f3da3c024d0"
      },
      "source": [
        "# Task 3\n",
        "\n",
        "# YOUR CODE HERE\n",
        "ones =  np.ones((237, 1))\n",
        "print(f'Ones shape is: {ones.shape}.')\n",
        "head = np.array(df[['Head']])\n",
        "print(f'Head shape is: {head.shape}.')\n",
        "\n",
        "X = np.concatenate((ones, head), axis = 1)\n",
        "\n",
        "# Print your X matrix shape\n",
        "print(X.shape)"
      ],
      "execution_count": 10,
      "outputs": [
        {
          "output_type": "stream",
          "text": [
            "Ones shape is: (237, 1).\n",
            "Head shape is: (237, 1).\n",
            "(237, 2)\n"
          ],
          "name": "stdout"
        }
      ]
    },
    {
      "cell_type": "code",
      "metadata": {
        "deletable": false,
        "editable": false,
        "id": "RjY-9809yjzn",
        "nbgrader": {
          "cell_type": "code",
          "checksum": "865c1285b7a582be3f99187be7540e58",
          "grade": true,
          "grade_id": "cell-bc89267013875630",
          "locked": true,
          "points": 1,
          "schema_version": 3,
          "solution": false,
          "task": false
        }
      },
      "source": [
        "# Task 3 - Test\n",
        "\n",
        "assert ones.shape == (237, 1), \"Is your ones matrix of the correct shape?\"\n",
        "assert head.shape == (237, 1), \"Is your 'head' matrix of the correct shape?\"\n",
        "assert X.shape == (237, 2), \"Is your X matrix of the correct shape?\"\n"
      ],
      "execution_count": 11,
      "outputs": []
    },
    {
      "cell_type": "markdown",
      "metadata": {
        "id": "CTtxhF82ceG7"
      },
      "source": [
        "**Task 4** - Transpose of a matrix\n",
        "\n",
        "Calculate the transpose of X which is written as $X^T$.  \n",
        "\n",
        "* Calculate the transpose of `X` and assign it to the variable `X_T`.\n",
        "\n",
        "Explain what the transpose of a matrix is.\n",
        "\n",
        "YOUR ANSWER\n"
      ]
    },
    {
      "cell_type": "code",
      "metadata": {
        "colab": {
          "base_uri": "https://localhost:8080/"
        },
        "deletable": false,
        "id": "m_Dd1ZbU335I",
        "nbgrader": {
          "cell_type": "code",
          "checksum": "712bbd01390c8b5e86868c45f0124046",
          "grade": false,
          "grade_id": "cell-77a8f3ab39997ded",
          "locked": false,
          "schema_version": 3,
          "solution": true,
          "task": false
        },
        "outputId": "d8b6da60-b0f5-4ffe-8bc0-d3a5afbbd106"
      },
      "source": [
        "# Task 4\n",
        "\n",
        "# YOUR CODE HERE\n",
        "X_T = X.transpose()\n",
        "\n",
        "# Print your transposed matrix shape\n",
        "print(X_T.shape)"
      ],
      "execution_count": 12,
      "outputs": [
        {
          "output_type": "stream",
          "text": [
            "(2, 237)\n"
          ],
          "name": "stdout"
        }
      ]
    },
    {
      "cell_type": "code",
      "metadata": {
        "deletable": false,
        "editable": false,
        "id": "jzYyv8xpyjzo",
        "nbgrader": {
          "cell_type": "code",
          "checksum": "4646d3d8f77a047204be19706e5d51d2",
          "grade": true,
          "grade_id": "cell-c42371c469023c73",
          "locked": true,
          "points": 1,
          "schema_version": 3,
          "solution": false,
          "task": false
        }
      },
      "source": [
        "# Task 4 - Test\n",
        "\n",
        "assert X_T.shape == (2, 237), \"Is your X_T matrix of the correct shape?\"\n"
      ],
      "execution_count": 13,
      "outputs": []
    },
    {
      "cell_type": "markdown",
      "metadata": {
        "id": "GGng_b0CdJbV"
      },
      "source": [
        "**Task 5** - More matrix multiplication!\n",
        "\n",
        "Use matrix multiplication to calculate the transpose of X multiple by X, which is written as $X^TX$.\n",
        "\n",
        "* Assign the results of your calculation to the variable `X_T_X` which should be a `numpy.ndarray`."
      ]
    },
    {
      "cell_type": "code",
      "metadata": {
        "colab": {
          "base_uri": "https://localhost:8080/"
        },
        "deletable": false,
        "id": "_cOjfx-wcvca",
        "nbgrader": {
          "cell_type": "code",
          "checksum": "f19943d0fc17e41d379caac4b5c9b9d7",
          "grade": false,
          "grade_id": "cell-c124802e72cb0884",
          "locked": false,
          "schema_version": 3,
          "solution": true,
          "task": false
        },
        "outputId": "f25ca791-c70b-4a4c-e238-993f63a15561"
      },
      "source": [
        "# Task 5\n",
        "\n",
        "# YOUR CODE HERE\n",
        "X_T_X = X_T @ X\n",
        "\n",
        "# Look at your matrix\n",
        "print(X_T_X)"
      ],
      "execution_count": 14,
      "outputs": [
        {
          "output_type": "stream",
          "text": [
            "[[2.37000000e+02 8.61256000e+05]\n",
            " [8.61256000e+05 3.16128319e+09]]\n"
          ],
          "name": "stdout"
        }
      ]
    },
    {
      "cell_type": "code",
      "metadata": {
        "deletable": false,
        "editable": false,
        "id": "iClDrC_Jyjzp",
        "nbgrader": {
          "cell_type": "code",
          "checksum": "b5b9ed22ebd4f8e9a4ef6ba8f9a6864f",
          "grade": true,
          "grade_id": "cell-abafc7210672e842",
          "locked": true,
          "points": 1,
          "schema_version": 3,
          "solution": false,
          "task": false
        }
      },
      "source": [
        "# Task 5 - Test\n",
        "\n",
        "assert X_T_X.shape == (2, 2), \"Is your X_T_X matrix of the correct shape?\"\n"
      ],
      "execution_count": 15,
      "outputs": []
    },
    {
      "cell_type": "markdown",
      "metadata": {
        "id": "xihZH2tIdWGc"
      },
      "source": [
        "**Task 6** - Continuing the matrix multiplication\n",
        "\n",
        "Calculate the inverse of the matrix you calculated in **Task 5**. This would be written as $(X^TX)^{-1}$.  \n",
        "\n",
        "* Assign your calculation to the variable `X_T_X_inv` which should be a `numpy.ndarray`.\n",
        "\n",
        "Explain what the inverse of a matrix is. You can use examples from other areas of math to illustrate.\n",
        "\n",
        "YOUR ANSWER"
      ]
    },
    {
      "cell_type": "code",
      "metadata": {
        "colab": {
          "base_uri": "https://localhost:8080/"
        },
        "deletable": false,
        "id": "WxOrKY9F391Z",
        "nbgrader": {
          "cell_type": "code",
          "checksum": "4f94fbee99a196cda21fdd2c8176e9f5",
          "grade": false,
          "grade_id": "cell-dbca155155dd78e0",
          "locked": false,
          "schema_version": 3,
          "solution": true,
          "task": false
        },
        "outputId": "ef3c2c9e-d17b-4214-e428-e9cd3eb0c085"
      },
      "source": [
        "# Task 6\n",
        "\n",
        "# YOUR CODE HERE\n",
        "X_T_X_inv = np.linalg.inv(X_T_X)\n",
        "\n",
        "# Look at your matrix\n",
        "print(X_T_X_inv)"
      ],
      "execution_count": 16,
      "outputs": [
        {
          "output_type": "stream",
          "text": [
            "[[ 4.23638519e-01 -1.15415543e-04]\n",
            " [-1.15415543e-04  3.17599920e-08]]\n"
          ],
          "name": "stdout"
        }
      ]
    },
    {
      "cell_type": "code",
      "metadata": {
        "deletable": false,
        "editable": false,
        "id": "FI4Z2mPcyjzq",
        "nbgrader": {
          "cell_type": "code",
          "checksum": "2a66278c668fed6670563bff1e429844",
          "grade": true,
          "grade_id": "cell-4a406a5447c57b7b",
          "locked": true,
          "points": 1,
          "schema_version": 3,
          "solution": false,
          "task": false
        }
      },
      "source": [
        "# Task 6 - Test\n",
        "\n",
        "assert X_T_X_inv.shape == (2, 2), \"Is your X_T_X matrix of the correct shape?\"\n"
      ],
      "execution_count": 17,
      "outputs": []
    },
    {
      "cell_type": "markdown",
      "metadata": {
        "id": "Z3-aBWcJdwlS"
      },
      "source": [
        "**Task 7** - More and more matrix multiplication\n",
        "\n",
        "Next, we'll continue with the matrix multiplication. Let's calculate the result of X transpose multiplied by Y which is written $X^TY$.\n",
        "\n",
        "* Assign your result to the variable `X_T_Y` which should be a `numpy.ndarray`."
      ]
    },
    {
      "cell_type": "code",
      "metadata": {
        "colab": {
          "base_uri": "https://localhost:8080/"
        },
        "deletable": false,
        "id": "IzDRPF924FNk",
        "nbgrader": {
          "cell_type": "code",
          "checksum": "647c9c927a9fdfa490843a5b119818e5",
          "grade": false,
          "grade_id": "cell-41f2499b7e62a7d1",
          "locked": false,
          "schema_version": 3,
          "solution": true,
          "task": false
        },
        "outputId": "ec06a5ef-1044-47f9-db94-49c0c734bae0"
      },
      "source": [
        "# Task 7\n",
        "\n",
        "# YOUR CODE HERE\n",
        "X_T_Y = X_T @ Y\n",
        "\n",
        "# Look at your matrix and the shape\n",
        "print(X_T_Y)\n",
        "print(\"X_T_Y shape: \", X_T_Y.shape)"
      ],
      "execution_count": 18,
      "outputs": [
        {
          "output_type": "stream",
          "text": [
            "[[3.0404100e+05]\n",
            " [1.1131768e+09]]\n",
            "X_T_Y shape:  (2, 1)\n"
          ],
          "name": "stdout"
        }
      ]
    },
    {
      "cell_type": "code",
      "metadata": {
        "deletable": false,
        "editable": false,
        "id": "WJvopikhyjzr",
        "nbgrader": {
          "cell_type": "code",
          "checksum": "cf40df05590f7610120d70cf233c3dbc",
          "grade": true,
          "grade_id": "cell-ea720b65856a5c38",
          "locked": true,
          "points": 1,
          "schema_version": 3,
          "solution": false,
          "task": false
        }
      },
      "source": [
        "# Task 7 - Test\n",
        "\n",
        "assert X_T_Y.shape == (2, 1), \"Is your X_T_Y matrix of the correct shape?\"\n"
      ],
      "execution_count": 19,
      "outputs": []
    },
    {
      "cell_type": "markdown",
      "metadata": {
        "id": "uImjL8qgeDKS"
      },
      "source": [
        "**Task 8** - Calculate the slope and intercept \n",
        "\n",
        "Finally! We can calculate the slope and intercept from all of the matrix multiplication we just did.\n",
        "\n",
        "Use the results from your previous tasks to calculate the values of the slope and intercept using the formula $$ B = (X^{'}X)^{-1}X^{'}Y$$\n",
        "\n",
        "* Assign the results of your calculation to the variable `B` which should be a `numpy.ndarray`."
      ]
    },
    {
      "cell_type": "code",
      "metadata": {
        "colab": {
          "base_uri": "https://localhost:8080/"
        },
        "deletable": false,
        "id": "ataF2sSMagfm",
        "nbgrader": {
          "cell_type": "code",
          "checksum": "bc7d4a1fe6c6c96bed50bb9a1189589b",
          "grade": false,
          "grade_id": "cell-21e02aaa9a371012",
          "locked": false,
          "schema_version": 3,
          "solution": true,
          "task": false
        },
        "outputId": "422284c8-3f33-455c-f580-5aedfab87cf5"
      },
      "source": [
        "# Task 8\n",
        "\n",
        "# YOUR CODE HERE\n",
        "B = X_T_X_inv @ X_T_Y\n",
        "\n",
        "# Look at your matrix and the shape\n",
        "print(B)\n",
        "print(\"The shape of B is: \", B.shape)"
      ],
      "execution_count": 20,
      "outputs": [
        {
          "output_type": "stream",
          "text": [
            "[[3.25573421e+02]\n",
            " [2.63429339e-01]]\n",
            "The shape of B is:  (2, 1)\n"
          ],
          "name": "stdout"
        }
      ]
    },
    {
      "cell_type": "code",
      "metadata": {
        "deletable": false,
        "editable": false,
        "id": "eCxp786tyjzs",
        "nbgrader": {
          "cell_type": "code",
          "checksum": "6fb14a304ca64ab5afa270da272b85f5",
          "grade": true,
          "grade_id": "cell-5a90535710ea5156",
          "locked": true,
          "points": 1,
          "schema_version": 3,
          "solution": false,
          "task": false
        }
      },
      "source": [
        "# Task 8 - Test\n",
        "\n",
        "assert B.shape == (2, 1), \"Is your B matrix of the correct shape?\"\n"
      ],
      "execution_count": 21,
      "outputs": []
    },
    {
      "cell_type": "markdown",
      "metadata": {
        "id": "58tEkd1YibRJ"
      },
      "source": [
        "**Task 9** - Verify the linear algebra calculations\n",
        "\n",
        "Now, we're going to verify our linear algebra calculations by fitting a linear model!\n",
        "\n",
        "We'll use the results of this linear model to compare to our calculated values for the slope and intercept.\n",
        "\n",
        "* Import the `statsmodels.formula.api` library and fit an `ols` model (enter the model in the format Y ~ X).\n",
        "* Assign your model to the variable `model`\n",
        "\n",
        "Compare your `model.params` output to the two values in the `B` matrix you calculated above - this isn't autograded, just a chance to see if the results agree."
      ]
    },
    {
      "cell_type": "code",
      "metadata": {
        "colab": {
          "base_uri": "https://localhost:8080/"
        },
        "deletable": false,
        "id": "cAz2v2l27XQC",
        "nbgrader": {
          "cell_type": "code",
          "checksum": "eca497723cce5aa9c2ba21f2f65e6518",
          "grade": false,
          "grade_id": "cell-9d0238431c55d153",
          "locked": false,
          "schema_version": 3,
          "solution": true,
          "task": false
        },
        "outputId": "ce3dbc45-c1fd-4b3b-a3d7-cb9cc38d4d24"
      },
      "source": [
        "# Task 9\n",
        "import statsmodels.formula.api as sm\n",
        "\n",
        "# YOUR CODE HERE\n",
        "model = sm.ols('Brain ~ Head', data = df).fit()\n",
        "\n",
        "print(model.params)\n",
        "print(B)\n",
        "\n",
        "print(f'Our model tells us our intercept is {model.params[0]} and our slope is {model.params[1]}.')\n",
        "print(f'Our calculations tells us our intercept is {B[0,0]} and our slope is {B[1,0]}.')\n",
        "\n",
        "assert round(B[0,0],4) == round(model.params[0],4)\n",
        "assert round(B[1,0],4) == round(model.params[1],4)"
      ],
      "execution_count": 22,
      "outputs": [
        {
          "output_type": "stream",
          "text": [
            "/usr/local/lib/python3.7/dist-packages/statsmodels/tools/_testing.py:19: FutureWarning: pandas.util.testing is deprecated. Use the functions in the public API at pandas.testing instead.\n",
            "  import pandas.util.testing as tm\n"
          ],
          "name": "stderr"
        },
        {
          "output_type": "stream",
          "text": [
            "Intercept    325.573421\n",
            "Head           0.263429\n",
            "dtype: float64\n",
            "[[3.25573421e+02]\n",
            " [2.63429339e-01]]\n",
            "Our model tells us our intercept is 325.5734210494421 and our slope is 0.263429339489399.\n",
            "Our calculations tells us our intercept is 325.5734210494587 and our slope is 0.26342933948939395.\n"
          ],
          "name": "stdout"
        }
      ]
    },
    {
      "cell_type": "code",
      "metadata": {
        "deletable": false,
        "editable": false,
        "id": "Inp9-nX8yjzs",
        "nbgrader": {
          "cell_type": "code",
          "checksum": "c56b1852b4d8059aeee0058bd81ed8e1",
          "grade": true,
          "grade_id": "cell-c447fa0fd370c3e8",
          "locked": true,
          "points": 1,
          "schema_version": 3,
          "solution": false,
          "task": false
        }
      },
      "source": [
        "# Task 9 - Test\n",
        "# Hidden tests - you will see the results when you submit to Canvas"
      ],
      "execution_count": 23,
      "outputs": []
    },
    {
      "cell_type": "markdown",
      "metadata": {
        "id": "fldeKZQJiWJY"
      },
      "source": [
        "**Task 10** - Apply matrix calculations to the data\n",
        "\n",
        "Now that we've verified that our matrix calculations result in the same parameters as we fit with our model, let's practice using the matrix calculations with some of the data.\n",
        "\n",
        "Create a new X matrix that includes columns for both head size and age group.\n",
        "\n",
        "**Your tasks** (read carefully)\n",
        "\n",
        "* Create an array for the head size column 'Head' and assign it to the variable `head`; you should have a `numpy.ndarray`\n",
        "* Create a new column by subtracting `1` from each value in `df['Age']`; call this new column `Age_01`\n",
        "* Create an array from the 'Age_01' column and assign it to the variable `age`; this should be a `numpy.ndarray`\n",
        "* Concatenate the following three arrays and assign the result to the variable `X`: `ones`, `head`, `age` (use the `ones` array from Task 3)."
      ]
    },
    {
      "cell_type": "code",
      "metadata": {
        "colab": {
          "base_uri": "https://localhost:8080/"
        },
        "deletable": false,
        "id": "p5k_g4HBkPvv",
        "nbgrader": {
          "cell_type": "code",
          "checksum": "f220a2702137065482c6d9eef5148223",
          "grade": false,
          "grade_id": "cell-697c74d2c03f2745",
          "locked": false,
          "schema_version": 3,
          "solution": true,
          "task": false
        },
        "outputId": "2affee69-64b2-4f10-8104-0e17cbbf5ae7"
      },
      "source": [
        "# Task 10\n",
        "\n",
        "# YOUR CODE HERE\n",
        "df['ones'] = 1\n",
        "head = df[['Head']].to_numpy()\n",
        "df['Age_01'] = df['Age'] - 1\n",
        "age = df[['Age_01']].to_numpy()\n",
        "X = np.concatenate( (ones, head, age), axis = 1)\n",
        "\n",
        "\n",
        "# Print your results\n",
        "# Check the shape\n",
        "print(\"Shape of the array: \", X.shape)\n",
        "\n",
        "print(\"The first five rows: \\n\", X[:5])\n",
        "\n",
        "X2 = np.array(df[['ones', 'Head', 'Age_01']])\n",
        "print(f'\\nShape of X2: {X2.shape}')\n",
        "print(f'The first five rows: \\n{X2[:5]}')\n",
        "\n",
        "X3 = df[['ones', 'Head', 'Age_01']].to_numpy()\n",
        "print(f'\\nShape of X3: {X3.shape}')\n",
        "print(f'The first five rows: \\n{X3[:5]}')\n",
        "\n",
        "X4 = np.concatenate( (np.ones((len(df['Head']), 1)), df[['Head']].to_numpy(), df[['Age']].to_numpy()-1 ), axis=1 )\n",
        "print(f'\\nShape of X4: {X4.shape}.')\n",
        "print(f'The first five rows: \\n{X4[:5]}')\n",
        "\n",
        "np.testing.assert_array_equal(X2, X)\n",
        "np.testing.assert_array_equal(X3, X)\n",
        "np.testing.assert_array_equal(X4, X)"
      ],
      "execution_count": 26,
      "outputs": [
        {
          "output_type": "stream",
          "text": [
            "Shape of the array:  (237, 3)\n",
            "The first five rows: \n",
            " [[1.000e+00 4.512e+03 0.000e+00]\n",
            " [1.000e+00 3.738e+03 0.000e+00]\n",
            " [1.000e+00 4.261e+03 0.000e+00]\n",
            " [1.000e+00 3.777e+03 0.000e+00]\n",
            " [1.000e+00 4.177e+03 0.000e+00]]\n",
            "\n",
            "Shape of X2: (237, 3)\n",
            "The first five rows: \n",
            "[[   1 4512    0]\n",
            " [   1 3738    0]\n",
            " [   1 4261    0]\n",
            " [   1 3777    0]\n",
            " [   1 4177    0]]\n",
            "\n",
            "Shape of X3: (237, 3)\n",
            "The first five rows: \n",
            "[[   1 4512    0]\n",
            " [   1 3738    0]\n",
            " [   1 4261    0]\n",
            " [   1 3777    0]\n",
            " [   1 4177    0]]\n",
            "\n",
            "Shape of X4: (237, 3).\n",
            "The first five rows: \n",
            "[[1.000e+00 4.512e+03 0.000e+00]\n",
            " [1.000e+00 3.738e+03 0.000e+00]\n",
            " [1.000e+00 4.261e+03 0.000e+00]\n",
            " [1.000e+00 3.777e+03 0.000e+00]\n",
            " [1.000e+00 4.177e+03 0.000e+00]]\n"
          ],
          "name": "stdout"
        }
      ]
    },
    {
      "cell_type": "code",
      "metadata": {
        "deletable": false,
        "editable": false,
        "id": "HwaBWAItyjzt",
        "nbgrader": {
          "cell_type": "code",
          "checksum": "bd7c7a0e2d2f60d7f0cebff6bb8a4998",
          "grade": true,
          "grade_id": "cell-d0f61adaa94f1d10",
          "locked": true,
          "points": 1,
          "schema_version": 3,
          "solution": false,
          "task": false
        }
      },
      "source": [
        "# Task 10 - Test\n",
        "\n",
        "assert head.shape == (237, 1), \"Is your 'head' matrix of the correct shape?\"\n",
        "assert age.shape == (237, 1), \"Is your 'age' matrix of the correct shape?\"\n",
        "assert X.shape == (237, 3), \"Is your X matrix of the correct shape?\"\n"
      ],
      "execution_count": 27,
      "outputs": []
    },
    {
      "cell_type": "markdown",
      "metadata": {
        "id": "NaPLUX6P7eV6"
      },
      "source": [
        "**Task 11** - Calculate the slope and intercept\n",
        "\n",
        "Now, calculate the values of the intercept and slope terms for head size and age using the formula $$ B = (X^{'}X)^{-1}X^{'}Y$$\n",
        "\n",
        "* Break it down into smaller steps, in separate cells if needed\n",
        "* COMMENT all the steps, so you can troubleshoot if there is a mistake\n",
        "\n",
        "This task will not be autograded but verify your answers! "
      ]
    },
    {
      "cell_type": "code",
      "metadata": {
        "colab": {
          "base_uri": "https://localhost:8080/"
        },
        "deletable": false,
        "id": "wffPKuJVkrCB",
        "nbgrader": {
          "cell_type": "code",
          "checksum": "b5a7750fdaacf386a163ee1cf159deb9",
          "grade": false,
          "grade_id": "cell-39de8514ffef8d10",
          "locked": false,
          "schema_version": 3,
          "solution": true,
          "task": false
        },
        "outputId": "41984f77-bc31-4533-ecc6-09a3e89f8904"
      },
      "source": [
        "# Task 11\n",
        "# B = (X'X)^-1 X'Y\n",
        "\n",
        "# YOUR CODE HERE\n",
        "B  = np.linalg.inv(X.transpose() @ X) @ (X.transpose() @ Y)\n",
        "\n",
        "# Print your final result!\n",
        "print(B)"
      ],
      "execution_count": 28,
      "outputs": [
        {
          "output_type": "stream",
          "text": [
            "[[ 3.47550501e+02]\n",
            " [ 2.60438766e-01]\n",
            " [-2.07316446e+01]]\n"
          ],
          "name": "stdout"
        }
      ]
    },
    {
      "cell_type": "markdown",
      "metadata": {
        "id": "m92gsZo-8TcP"
      },
      "source": [
        "**Task 12** - Verify the matrix calculation with a linear model\n",
        "\n",
        "We're going to fit another OLS model and then confirm our answer with what we calculated for `B` in **Task 11**\n",
        "\n",
        "* Fit an OLS model as you did above but your input will be in the two independent variables head size and age (your model input should be Y ~ X1 + X2). **Make sure to use `Head` for X1 and `Age_01` (not `C(Age_01)`, which would change the order of the ouput) for X2.**\n",
        "* Assign the model results to the variable `model2`.\n",
        "\n",
        "Compare your `model2.params` to the values you determined for `B` in Task 11 - do they match?"
      ]
    },
    {
      "cell_type": "code",
      "metadata": {
        "colab": {
          "base_uri": "https://localhost:8080/"
        },
        "deletable": false,
        "id": "1k7mU2R-lGeL",
        "nbgrader": {
          "cell_type": "code",
          "checksum": "086f97215373ae43896a799705a2a6ad",
          "grade": false,
          "grade_id": "cell-8495052423ed2196",
          "locked": false,
          "schema_version": 3,
          "solution": true,
          "task": false
        },
        "outputId": "29abc87a-b301-450f-b642-6868ba268fd2"
      },
      "source": [
        "# Task 12\n",
        "\n",
        "# YOUR CODE HERE\n",
        "model2 = sm.ols('Brain ~ Head + Age_01', data=df).fit()\n",
        "print(model2.params)"
      ],
      "execution_count": 29,
      "outputs": [
        {
          "output_type": "stream",
          "text": [
            "Intercept    347.550501\n",
            "Head           0.260439\n",
            "Age_01       -20.731645\n",
            "dtype: float64\n"
          ],
          "name": "stdout"
        }
      ]
    },
    {
      "cell_type": "markdown",
      "metadata": {
        "id": "IKKKfCAKyjzv"
      },
      "source": [
        "**Task 12 Test**"
      ]
    },
    {
      "cell_type": "code",
      "metadata": {
        "deletable": false,
        "editable": false,
        "id": "oMCAB5hKyjzv",
        "nbgrader": {
          "cell_type": "code",
          "checksum": "cc8e9289ee31142cebc8ce495e584c62",
          "grade": true,
          "grade_id": "cell-0d0ec86caf1c2671",
          "locked": true,
          "points": 1,
          "schema_version": 3,
          "solution": false,
          "task": false
        }
      },
      "source": [
        "# Task 12 - Test\n",
        "# Hidden tests - you will see the results when you submit to Canvas"
      ],
      "execution_count": 30,
      "outputs": []
    },
    {
      "cell_type": "markdown",
      "metadata": {
        "id": "J10sSUChlzRH"
      },
      "source": [
        "## Part B: Cosine Similarity\n",
        "\n",
        "Use the following information to answer the remaining Tasks in the Module Project.\n",
        "\n",
        "The song writing collaboration between John Lennon and Paul McCartney was one of the most productive in music history.  Unlike many other partnerships where one individual wrote lyrics and one wrote music, Lennon and McCartney composed both, and it was decided that any song that was written would be credited to both.  In the beginning of their relationship, many of their songs were truly collaborative.  However, later on, they often worked separately with little to no input from the other.    \n",
        "\n",
        "Because of extensive reporting on the Beatles over the years, it is generally known if a Lennon-McCartney song was a true collaboration, primarily (or totally) written by Lennon, or primarily (or totally) written by McCartney.  \n",
        "\n",
        "**However, there are several disputed songs where both Lennon and McCartney at times claimed to be the sole (or primary) composer.**\n",
        "\n",
        "We will now use cosine similarity to determine if *Ticket to Ride* (disputed) is most similar to *From Me to You* (collaborative, not disputed) or *Strawberry Fields* (Lennon, not disputed).\n",
        "\n",
        "From the Wikipedia article on the Lennon-McCartney Partnership: Lennon said that McCartney's contribution was limited to \"the way Ringo played the drums\". In Many Years from Now, McCartney said \"we sat down and wrote it together ... give him 60 percent of it.\""
      ]
    },
    {
      "cell_type": "markdown",
      "metadata": {
        "id": "MVipjsqR9o5y"
      },
      "source": [
        "**Task 13** - Import all the song lyrics\n",
        "\n",
        "Import the text of \"Strawberry Fields\", \"From Me to You\", and \"Ticket to Ride\". The code has been provided for you - run the cell to see the output. For each set of lyrics, the word frequencies have also been calculated.\n",
        "\n",
        "**Run the following cell to load all the lyrics.**"
      ]
    },
    {
      "cell_type": "code",
      "metadata": {
        "id": "6SuKxo-lYsCR"
      },
      "source": [
        "# Task 13\n",
        "\n",
        "# RUN THIS CELL TO LOAD THE LYRICS\n",
        "\n",
        "# Strawberry Fields - John Lennon (not disputed)\n",
        "\n",
        "Strawberry_ = \"let me take you down cause Im going to Strawberry Fields nothing is real and nothing to get hung about Strawberry Fields forever living is easy with eyes closed misunderstanding all you see its getting hard to be someone but it all works out it doesnt matter much to me let me take you down cause Im going to Strawberry Fields nothing is real and nothing to get hung about Strawberry Fields forever no one I think is in my tree I mean it must be high or low that is you cant you know tune in but its all right that is I think its not too bad let me take you down cause Im going to Strawberry Fields nothing is real and nothing to get hung about Strawberry Fields forever always no sometimes think but you know I know when it's a dream I think er no I mean er yes but its all wrong that is I think I disagree let me take you down cause Im going to Strawberry Fields nothing is real and nothing to get hung about Strawberry Fields forever Strawberry Fields forever Strawberry Fields forever\"\n",
        "Strawberry_df = pd.DataFrame({\"Words\": Strawberry_.split()})\n",
        "Strawberry_df_freq = pd.DataFrame(pd.crosstab(index=Strawberry_df['Words'],columns='count'))\n",
        "\n",
        "# Uncomment to display\n",
        "#Strawberry_df_freq[0:50]\n",
        "\n",
        "\n",
        "# From Me to You - Lennon and McCartney (not disputed)\n",
        "\n",
        "Me_ = \"if there's anything that you want if there's anything I can do just call on me and Ill send it along with love from me to you Ive got everything that you want like a heart thats oh so true just call on me and Ill send it along with love from me to you Ive got arms that long to hold you and keep you by my side Ive got lips that long to kiss you and keep you satisfied oh if theres anything that you want if theres anything I can do just call on me and Ill send it along with love from me to you from me to you just call on me and Ill send it along with love from me to you Ive got arms that long to hold you and keep you by my side Ive got lips that long to kiss you and keep you satisfied oh if theres anything that you want if theres anything I can do just call on me and Ill send it along with love from me to you to you to you to you\"\n",
        "Me_df = pd.DataFrame({\"Words\": Me_.split()})\n",
        "Me_df_freq = pd.DataFrame(pd.crosstab(index=Me_df['Words'],columns='count'))\n",
        "\n",
        "# Uncomment to display\n",
        "#Me_df_freq[0:50]\n",
        "\n",
        "\n",
        "# Ticket to Ride (disputed)\n",
        "\n",
        "Ticket_ = \"I think Im gonna be sad I think its today yeah the girl thats driving me mad is going away shes got a ticket to ride shes got a ticket to ride shes got a ticket to ride but she dont care she said that living with me is bringing her down yeah for she would never be free when I was around shes got a ticket to ride shes got a ticket to ride shes got a ticket to ride but she dont care I dont know why shes ridin so high she ought to think twice she ought to do right by me before she gets to saying goodbye she ought to think twice she ought to do right by me I think Im gonna be sad I think its today yeah the girl thats driving me mad is going away yeah shes got a ticket to ride shes got a ticket to ride shes got a ticket to ride but she dont care I dont know why shes ridin so high she ought to think twice she ought to do right by me before she gets to saying goodbye she ought to think twice she ought to do right by me she said that living with me is bringing her down yeah for she would never be free when I was around ah shes got a ticket to ride shes got a ticket to ride shes got a ticket to ride but she dont care my baby dont care my baby dont care my baby dont care my baby dont care my baby dont care my baby dont care\"\n",
        "Ticket_df = pd.DataFrame({\"Words\": Ticket_.split()})\n",
        "Ticket_df_freq = pd.DataFrame(pd.crosstab(index=Ticket_df['Words'],columns='count'))\n",
        "\n",
        "# Uncomment to display\n",
        "# Ticket_df_freq[0:50]"
      ],
      "execution_count": 31,
      "outputs": []
    },
    {
      "cell_type": "code",
      "metadata": {
        "id": "O0eXmMZtwa2D"
      },
      "source": [
        ""
      ],
      "execution_count": 31,
      "outputs": []
    },
    {
      "cell_type": "markdown",
      "metadata": {
        "id": "c8ieic21sH4j"
      },
      "source": [
        "**Task 14** - Cosine similarity calculations\n",
        "\n",
        "Now it's your turn to complete some linear algebra calculations! In this task, we need to concatenate \"Ticket to Ride\" and \"Strawberry Fields\" and calculate the cosine similarity. Two linear algebra imports have been provided\n",
        "\n",
        "* Concatenate `Strawberry_df_freq` and `Ticket_df_freq` to create a new DataFrame.\n",
        "* Assign your final result to `cos_sim_1`; your final answer should be a float.\n",
        "\n",
        "Hint: you might need to use `.fillna()` on your DataFrame"
      ]
    },
    {
      "cell_type": "code",
      "metadata": {
        "colab": {
          "base_uri": "https://localhost:8080/",
          "height": 225
        },
        "deletable": false,
        "id": "5GYIQ3jf88MI",
        "nbgrader": {
          "cell_type": "code",
          "checksum": "618cdc64dc71d76a18b08ad64c49bf49",
          "grade": false,
          "grade_id": "cell-89be8f6da1a6c0b4",
          "locked": false,
          "schema_version": 3,
          "solution": true,
          "task": false
        },
        "outputId": "1a4b869c-431a-445c-c4ce-e6e8bf29c434"
      },
      "source": [
        "# Task 14\n",
        "# Compare 'Strawberry Fields' to 'Ticket to Ride'\n",
        "\n",
        "# Imports for linear algebra\n",
        "from numpy import dot\n",
        "from numpy.linalg import norm\n",
        "\n",
        "# YOUR CODE HERE\n",
        "all_words = pd.concat([Strawberry_df_freq, Ticket_df_freq, Me_df_freq], axis = 1)\n",
        "all_words.columns = ['Strawberry Fields', 'Ticket to Ride', 'From Me to You']\n",
        "all_words = all_words.fillna(0)\n",
        "\n",
        "cos_sim_1 = np.dot(all_words['Strawberry Fields'], all_words['Ticket to Ride']) / (np.linalg.norm(all_words['Strawberry Fields']) * np.linalg.norm(all_words['Ticket to Ride']))\n",
        "# Print out your result\n",
        "print(cos_sim_1)\n",
        "all_words.head()"
      ],
      "execution_count": 32,
      "outputs": [
        {
          "output_type": "stream",
          "text": [
            "0.324035859004908\n"
          ],
          "name": "stdout"
        },
        {
          "output_type": "execute_result",
          "data": {
            "text/html": [
              "<div>\n",
              "<style scoped>\n",
              "    .dataframe tbody tr th:only-of-type {\n",
              "        vertical-align: middle;\n",
              "    }\n",
              "\n",
              "    .dataframe tbody tr th {\n",
              "        vertical-align: top;\n",
              "    }\n",
              "\n",
              "    .dataframe thead th {\n",
              "        text-align: right;\n",
              "    }\n",
              "</style>\n",
              "<table border=\"1\" class=\"dataframe\">\n",
              "  <thead>\n",
              "    <tr style=\"text-align: right;\">\n",
              "      <th></th>\n",
              "      <th>Strawberry Fields</th>\n",
              "      <th>Ticket to Ride</th>\n",
              "      <th>From Me to You</th>\n",
              "    </tr>\n",
              "  </thead>\n",
              "  <tbody>\n",
              "    <tr>\n",
              "      <th>Fields</th>\n",
              "      <td>10.0</td>\n",
              "      <td>0.0</td>\n",
              "      <td>0.0</td>\n",
              "    </tr>\n",
              "    <tr>\n",
              "      <th>I</th>\n",
              "      <td>8.0</td>\n",
              "      <td>8.0</td>\n",
              "      <td>3.0</td>\n",
              "    </tr>\n",
              "    <tr>\n",
              "      <th>Im</th>\n",
              "      <td>4.0</td>\n",
              "      <td>2.0</td>\n",
              "      <td>0.0</td>\n",
              "    </tr>\n",
              "    <tr>\n",
              "      <th>Strawberry</th>\n",
              "      <td>10.0</td>\n",
              "      <td>0.0</td>\n",
              "      <td>0.0</td>\n",
              "    </tr>\n",
              "    <tr>\n",
              "      <th>a</th>\n",
              "      <td>1.0</td>\n",
              "      <td>12.0</td>\n",
              "      <td>1.0</td>\n",
              "    </tr>\n",
              "  </tbody>\n",
              "</table>\n",
              "</div>"
            ],
            "text/plain": [
              "            Strawberry Fields  Ticket to Ride  From Me to You\n",
              "Fields                   10.0             0.0             0.0\n",
              "I                         8.0             8.0             3.0\n",
              "Im                        4.0             2.0             0.0\n",
              "Strawberry               10.0             0.0             0.0\n",
              "a                         1.0            12.0             1.0"
            ]
          },
          "metadata": {
            "tags": []
          },
          "execution_count": 32
        }
      ]
    },
    {
      "cell_type": "code",
      "metadata": {
        "deletable": false,
        "editable": false,
        "id": "Zl1rwWmVyjzx",
        "nbgrader": {
          "cell_type": "code",
          "checksum": "0812df9be219e1c96fa1176c02725fbd",
          "grade": true,
          "grade_id": "cell-faaa0f234f570442",
          "locked": true,
          "points": 1,
          "schema_version": 3,
          "solution": false,
          "task": false
        }
      },
      "source": [
        "# Task 14 - Test\n",
        "# Hidden tests - you will see the results when you submit to Canvas"
      ],
      "execution_count": 33,
      "outputs": []
    },
    {
      "cell_type": "markdown",
      "metadata": {
        "id": "JCFn7l2XCefQ"
      },
      "source": [
        "**Task 15** - More cosine similarity calculations\n",
        "\n",
        "Now, we'll compare \"Ticket to Ride\" and \"From Me to You\" and calculate the cosine similarity.\n",
        "\n",
        "* Concatenate `Ticket_df_freq` and `Me_df_freq` to create a new DataFrame.\n",
        "* Assign your final result to `cos_sim_2`; your final answer should be a float.\n",
        "\n",
        "Hint: you might need to use `.fillna()` on your DataFrame"
      ]
    },
    {
      "cell_type": "code",
      "metadata": {
        "colab": {
          "base_uri": "https://localhost:8080/"
        },
        "deletable": false,
        "id": "uoj2UbIBCbJ5",
        "nbgrader": {
          "cell_type": "code",
          "checksum": "77d7bdc265f9623a1c6d70af01d7c514",
          "grade": false,
          "grade_id": "cell-35139e519c598a55",
          "locked": false,
          "schema_version": 3,
          "solution": true,
          "task": false
        },
        "outputId": "01bfe45b-37bc-4647-ef25-db0babf543e3"
      },
      "source": [
        "# Task 15\n",
        "# Compare From Me to You to Ticket to Ride\n",
        "\n",
        "# YOUR CODE HERE\n",
        "cos_sim_2 = np.dot(all_words['Ticket to Ride'], all_words['From Me to You']) / (np.linalg.norm(all_words['Ticket to Ride']) * np.linalg.norm(all_words['From Me to You']))\n",
        "\n",
        "# Print out your result\n",
        "print(cos_sim_2)"
      ],
      "execution_count": 34,
      "outputs": [
        {
          "output_type": "stream",
          "text": [
            "0.2882268853551227\n"
          ],
          "name": "stdout"
        }
      ]
    },
    {
      "cell_type": "code",
      "metadata": {
        "deletable": false,
        "editable": false,
        "id": "kQIWgcn5yjzx",
        "nbgrader": {
          "cell_type": "code",
          "checksum": "931c21fd5a8b37380d8f911f8297d4be",
          "grade": true,
          "grade_id": "cell-690e43451c978a2f",
          "locked": true,
          "points": 1,
          "schema_version": 3,
          "solution": false,
          "task": false
        }
      },
      "source": [
        "# Task 15 - Test\n",
        "# Hidden tests - you will see the results when you submit to Canvas"
      ],
      "execution_count": 35,
      "outputs": []
    },
    {
      "cell_type": "markdown",
      "metadata": {
        "id": "hJ-wIIvzuBaV"
      },
      "source": [
        "**Summary**\n",
        "  Select the best answer b\n",
        "\n",
        "ANSWER:"
      ]
    },
    {
      "cell_type": "markdown",
      "metadata": {
        "id": "TEMavWb0xBqz"
      },
      "source": [
        "**Task 16** - Summary\n",
        "\n",
        "\n",
        "What is your conclusion about \"Ticket to Ride\"?  Does it appear most similar to \"Strawberry Fields\" (Lennon) or \"From Me to You\" (collaborative)?\n",
        "\n",
        "Select the answer that best describes the best answer. Specify your answer in the next code block using `Answer = `.  For example, if the correct answer is choice B, you'll type `Answer = 'B'`.\n",
        "\n",
        "A: Ticket to Ride is most similar to Strawberry Fields\n",
        "\n",
        "B: Ticket to Ride is most similar to From Me to You\n",
        "\n",
        "C: Ticket to Ride is equally similar to both songs\n",
        "\n",
        "D: Tickt to Ride was probably not written beither by John Lennon or collaboratively."
      ]
    },
    {
      "cell_type": "code",
      "metadata": {
        "deletable": false,
        "id": "WBRJLy-mxBrA",
        "nbgrader": {
          "cell_type": "code",
          "checksum": "ce21bb965f585f1d9048ba83255735c2",
          "grade": false,
          "grade_id": "cell-6b9a56b997acc63d",
          "locked": false,
          "schema_version": 3,
          "solution": true,
          "task": false
        }
      },
      "source": [
        "# Task 16\n",
        "\n",
        "# YOUR CODE HERE\n",
        "Answer = 'A'"
      ],
      "execution_count": 36,
      "outputs": []
    },
    {
      "cell_type": "markdown",
      "metadata": {
        "id": "WQQxN3WfxBrB"
      },
      "source": [
        "**Task 16 Test**"
      ]
    },
    {
      "cell_type": "code",
      "metadata": {
        "deletable": false,
        "editable": false,
        "id": "Uij_qEDkxBrB",
        "nbgrader": {
          "cell_type": "code",
          "checksum": "6976e28ec214b79b00145b17003fb995",
          "grade": true,
          "grade_id": "cell-3970fbb1a3eaefb5",
          "locked": true,
          "points": 1,
          "schema_version": 3,
          "solution": false,
          "task": false
        }
      },
      "source": [
        "# Task 16 - Test\n",
        "# Hidden tests - you will see the results when you submit to Canvas"
      ],
      "execution_count": 37,
      "outputs": []
    }
  ]
}